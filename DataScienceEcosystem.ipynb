{
 "cells": [
  {
   "cell_type": "markdown",
   "id": "845454a8-2789-4d51-8a7f-21f7e69a5bc4",
   "metadata": {},
   "source": [
    "Data Science Tools and Ecosystem"
   ]
  },
  {
   "cell_type": "markdown",
   "id": "48f570ac-f8c7-4d5f-a922-8403ad596035",
   "metadata": {},
   "source": [
    "In this notebook, Data Science Tools and Ecosystem are summarized "
   ]
  },
  {
   "cell_type": "markdown",
   "id": "e085ecf3-172e-4d32-a89e-16b8bc46ef1b",
   "metadata": {},
   "source": [
    "Some of the commonly used libraries used by Data Scientists include:\n",
    "1. Pandas\n",
    "2. Numpy\n",
    "3. Matplotlib\n",
    "4. Seaborn\n",
    "5. Keras"
   ]
  },
  {
   "cell_type": "markdown",
   "id": "c795ccf8-5d8e-46fe-9fc1-a2b2489d8aae",
   "metadata": {},
   "source": [
    "|Data Science Tools|\n",
    "|------------------|\n",
    "|MySQL|\n",
    "|PostgreSQL|\n",
    "|Apache AirFlow|\n",
    "|Apache Kafka|\n",
    "|Pixie Dust|\n",
    "|Hue|\n",
    "|Kibana|\n",
    "\n"
   ]
  },
  {
   "cell_type": "markdown",
   "id": "c7208254-06cc-4dc8-88bb-b27904c4e4ca",
   "metadata": {},
   "source": [
    "Below are a few examples of evaluating arithmetic expressions in Python"
   ]
  },
  {
   "cell_type": "code",
   "execution_count": 5,
   "id": "2e33591b-6784-46f4-a15c-c3c4cb3254ea",
   "metadata": {},
   "outputs": [
    {
     "data": {
      "text/plain": [
       "17"
      ]
     },
     "execution_count": 5,
     "metadata": {},
     "output_type": "execute_result"
    }
   ],
   "source": [
    "# This_a_simple_arithmetic_expression_to_multiply_and_add_integers\n",
    "(3*4)+5"
   ]
  },
  {
   "cell_type": "code",
   "execution_count": 8,
   "id": "42cd4a17-82ea-41f4-acf4-59311bb6736a",
   "metadata": {},
   "outputs": [
    {
     "data": {
      "text/plain": [
       "3.3333333333333335"
      ]
     },
     "execution_count": 8,
     "metadata": {},
     "output_type": "execute_result"
    }
   ],
   "source": [
    "# This will convert 200 minutes to hours by dividing by 60\n",
    "\n",
    "200/60"
   ]
  },
  {
   "cell_type": "markdown",
   "id": "51aaf68e-a197-4325-a98f-0331013f5c8b",
   "metadata": {},
   "source": [
    "**Objectives**\n",
    "\n",
    "- List popular languages for Data Science\n",
    "- Do simple calculations\n",
    "- covert minutes to hours\n",
    "- create a table \n"
   ]
  },
  {
   "cell_type": "markdown",
   "id": "3a774378-ef7e-41f5-8810-36d31074c0a4",
   "metadata": {},
   "source": [
    "## Author \n",
    "Samuel"
   ]
  },
  {
   "cell_type": "code",
   "execution_count": null,
   "id": "5df9da5e-0088-4894-b2d1-19a7688cabfe",
   "metadata": {},
   "outputs": [],
   "source": []
  }
 ],
 "metadata": {
  "kernelspec": {
   "display_name": "Python 3 (ipykernel)",
   "language": "python",
   "name": "python3"
  },
  "language_info": {
   "codemirror_mode": {
    "name": "ipython",
    "version": 3
   },
   "file_extension": ".py",
   "mimetype": "text/x-python",
   "name": "python",
   "nbconvert_exporter": "python",
   "pygments_lexer": "ipython3",
   "version": "3.11.9"
  }
 },
 "nbformat": 4,
 "nbformat_minor": 5
}
